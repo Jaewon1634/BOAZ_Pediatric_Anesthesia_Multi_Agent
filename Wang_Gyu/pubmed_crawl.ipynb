{
 "cells": [
  {
   "cell_type": "code",
   "execution_count": null,
   "metadata": {},
   "outputs": [
    {
     "name": "stdout",
     "output_type": "stream",
     "text": [
      "✅ CSV 저장 완료: pubmed_airway_management_infant.csv\n"
     ]
    }
   ],
   "source": [
    "# ncbi 홈페이지 : https://www.ncbi.nlm.nih.gov\n",
    "\n",
    "from Bio import Entrez, Medline\n",
    "import time\n",
    "import pandas as pd\n",
    "from dotenv import load_dotenv\n",
    "import os\n",
    "\n",
    "load_dotenv()\n",
    "\n",
    "# ✨ 반드시 본인의 이메일로 바꿔야 함\n",
    "Entrez.email = \"wanggyu3467@gmail.com\"\n",
    "Entrez.api_key = os.environ.get(\"ENTREZ_API_KEY\")  # 선택사항이지만 추천\n",
    "\n",
    "query = \"airway management infant\"\n",
    "max_results = 10\n",
    "\n",
    "# 1. PMID 검색\n",
    "query = '\"airway management\"[All Fields] AND \"infant\"[All Fields]'\n",
    "# query = '\"Airway Management\"[MeSH Terms] AND \"Infant\"[MeSH Terms]'\n",
    "handle = Entrez.esearch(db=\"pubmed\", term=query, retmax=10, sort=\"relevance\")\n",
    "# Entrez.esearch(db=\"pubmed\", term=query, retmax=10, sort=\"relevance\")  # 기본값\n",
    "# Entrez.esearch(db=\"pubmed\", term=query, retmax=10, sort=\"pub+date\")  # 최신순\n",
    "# Entrez.esearch(db=\"pubmed\", term=query, retmax=10, sort=\"author\")    # 저자 이름순\n",
    "record = Entrez.read(handle)\n",
    "handle.close()\n",
    "id_list = record[\"IdList\"]\n",
    "\n",
    "# 2. 상세 정보 가져오기\n",
    "handle = Entrez.efetch(db=\"pubmed\", id=\",\".join(id_list), rettype=\"medline\", retmode=\"text\")\n",
    "records = list(Medline.parse(handle))\n",
    "handle.close()\n",
    "\n",
    "# 3. 데이터 정리\n",
    "data = []\n",
    "for record in records:\n",
    "    title = record.get(\"TI\", \"N/A\")\n",
    "    abstract = record.get(\"AB\", \"N/A\")\n",
    "    pmid = record.get(\"PMID\", \"N/A\")\n",
    "    url = f\"https://pubmed.ncbi.nlm.nih.gov/{pmid}/\" if pmid != \"N/A\" else \"N/A\"\n",
    "    data.append({\n",
    "        \"keyword\": query,\n",
    "        \"title\": title,\n",
    "        \"abstract\": abstract,\n",
    "        \"url\": url\n",
    "    })\n",
    "\n",
    "# 4. CSV 저장\n",
    "df = pd.DataFrame(data)\n",
    "df.to_csv(\"pubmed_airway_management_infant.csv\", index=False, encoding=\"utf-8-sig\")\n",
    "print(\"✅ CSV 저장 완료: pubmed_airway_management_infant.csv\")"
   ]
  }
 ],
 "metadata": {
  "kernelspec": {
   "display_name": "boaz",
   "language": "python",
   "name": "python3"
  },
  "language_info": {
   "codemirror_mode": {
    "name": "ipython",
    "version": 3
   },
   "file_extension": ".py",
   "mimetype": "text/x-python",
   "name": "python",
   "nbconvert_exporter": "python",
   "pygments_lexer": "ipython3",
   "version": "3.11.11"
  }
 },
 "nbformat": 4,
 "nbformat_minor": 2
}
